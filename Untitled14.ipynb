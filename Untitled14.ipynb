{
  "nbformat": 4,
  "nbformat_minor": 0,
  "metadata": {
    "colab": {
      "provenance": []
    },
    "kernelspec": {
      "name": "python3",
      "display_name": "Python 3"
    },
    "language_info": {
      "name": "python"
    }
  },
  "cells": [
    {
      "cell_type": "code",
      "source": [
        "def mm():\n",
        "  print(\" abraham\")"
      ],
      "metadata": {
        "id": "NNe7aoQuSdBC"
      },
      "execution_count": 5,
      "outputs": []
    },
    {
      "cell_type": "code",
      "source": [
        "mm()"
      ],
      "metadata": {
        "colab": {
          "base_uri": "https://localhost:8080/"
        },
        "id": "iqr7vEe3StwV",
        "outputId": "43f7805b-e3c0-4150-841b-3d46c3ed3f85"
      },
      "execution_count": 6,
      "outputs": [
        {
          "output_type": "stream",
          "name": "stdout",
          "text": [
            " abraham\n"
          ]
        }
      ]
    },
    {
      "cell_type": "code",
      "execution_count": 8,
      "metadata": {
        "id": "6JTECbgdRh_S"
      },
      "outputs": [],
      "source": [
        "def Abraham(x):\n",
        "  print(\"Your roll number is\",x)"
      ]
    },
    {
      "cell_type": "code",
      "source": [
        "x=int(input(\"Enter your roll no\"))\n",
        "Abraham(x)"
      ],
      "metadata": {
        "colab": {
          "base_uri": "https://localhost:8080/"
        },
        "id": "YPLPshr3SDyD",
        "outputId": "74252f17-8621-4063-f42c-f30fba15a8d0"
      },
      "execution_count": 7,
      "outputs": [
        {
          "output_type": "stream",
          "name": "stdout",
          "text": [
            "Enter your roll no2\n",
            "Your roll number is 2\n"
          ]
        }
      ]
    },
    {
      "cell_type": "code",
      "source": [],
      "metadata": {
        "id": "doSyjOuOda1m"
      },
      "execution_count": null,
      "outputs": []
    },
    {
      "cell_type": "code",
      "source": [
        "def Abraham(x,y,z,u):\n",
        "  print(\"My name is\",x)\n",
        "  print(\"Roll number is\",u)\n",
        "  print(\"Email is\",y)\n",
        "  print(\"place is\",z)"
      ],
      "metadata": {
        "id": "k4GG-C-fV5Da"
      },
      "execution_count": 16,
      "outputs": []
    },
    {
      "cell_type": "code",
      "source": [
        "x=input(\"Enter name\")\n",
        "y=input(\"Enter your email ID:\")\n",
        "z=input(\"Enter place\")\n",
        "u=int(input(\"Enter your roll number\"))\n",
        "Abraham(x,u,y,z)"
      ],
      "metadata": {
        "colab": {
          "base_uri": "https://localhost:8080/"
        },
        "id": "46BWDntXSbcO",
        "outputId": "00fbb215-3776-4a0c-ea72-ce31da61982d"
      },
      "execution_count": 17,
      "outputs": [
        {
          "output_type": "stream",
          "name": "stdout",
          "text": [
            "Enter name5\n",
            "Enter your email ID:7\n",
            "Enter placecbbcv\n",
            "Enter your roll number6\n",
            "My name is 5\n",
            "Roll number is cbbcv\n",
            "Email is 6\n",
            "place is 7\n"
          ]
        }
      ]
    },
    {
      "cell_type": "code",
      "source": [
        "x=input(\"enter full name: \")\n",
        "x.split()\n",
        "def first():\n",
        "    print(x.split()[0])\n",
        "def second():\n",
        "    print(x.split()[-1])"
      ],
      "metadata": {
        "colab": {
          "base_uri": "https://localhost:8080/"
        },
        "id": "9hUYi4YYZQV5",
        "outputId": "c7f3b805-4e47-43fb-d799-d234b547d92f"
      },
      "execution_count": 26,
      "outputs": [
        {
          "name": "stdout",
          "output_type": "stream",
          "text": [
            "enter full name: Abraham Jose\n"
          ]
        }
      ]
    },
    {
      "cell_type": "code",
      "source": [
        "first()"
      ],
      "metadata": {
        "colab": {
          "base_uri": "https://localhost:8080/"
        },
        "id": "2ep5YDFyfq18",
        "outputId": "01061151-1380-42de-a24d-da09bf8cf5af"
      },
      "execution_count": 27,
      "outputs": [
        {
          "output_type": "stream",
          "name": "stdout",
          "text": [
            "Abraham\n"
          ]
        }
      ]
    },
    {
      "cell_type": "code",
      "source": [
        "second()"
      ],
      "metadata": {
        "colab": {
          "base_uri": "https://localhost:8080/"
        },
        "id": "7M7RezjrhYQG",
        "outputId": "a94ab36d-5645-48ce-ea7a-1e2e3db1885f"
      },
      "execution_count": 28,
      "outputs": [
        {
          "output_type": "stream",
          "name": "stdout",
          "text": [
            "Jose\n"
          ]
        }
      ]
    },
    {
      "cell_type": "code",
      "source": [],
      "metadata": {
        "id": "7Y8nlVhkhbau"
      },
      "execution_count": null,
      "outputs": []
    }
  ]
}
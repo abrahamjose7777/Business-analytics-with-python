{
  "nbformat": 4,
  "nbformat_minor": 0,
  "metadata": {
    "colab": {
      "provenance": []
    },
    "kernelspec": {
      "name": "python3",
      "display_name": "Python 3"
    },
    "language_info": {
      "name": "python"
    }
  },
  "cells": [
    {
      "cell_type": "code",
      "execution_count": 2,
      "metadata": {
        "colab": {
          "base_uri": "https://localhost:8080/"
        },
        "id": "b6kcgx8myFaP",
        "outputId": "1f72dfa4-f513-499c-90af-8aaeaffc0bf3"
      },
      "outputs": [
        {
          "output_type": "stream",
          "name": "stdout",
          "text": [
            "This is \"Python\" programming\n"
          ]
        }
      ],
      "source": [
        "x=\"This is \\\"Python\\\" programming\"\n",
        "print(x)"
      ]
    },
    {
      "cell_type": "code",
      "source": [
        "x='He\\'s a doctor'\n",
        "print(x)"
      ],
      "metadata": {
        "colab": {
          "base_uri": "https://localhost:8080/"
        },
        "id": "Aqdb-_viyxmf",
        "outputId": "beea7de2-4de2-4c69-b120-e52804977124"
      },
      "execution_count": 4,
      "outputs": [
        {
          "output_type": "stream",
          "name": "stdout",
          "text": [
            "He's a doctor\n"
          ]
        }
      ]
    },
    {
      "cell_type": "code",
      "source": [
        "x=\"Hello \\n word!\"\n",
        "print(x)"
      ],
      "metadata": {
        "colab": {
          "base_uri": "https://localhost:8080/"
        },
        "id": "cbRQM3tpzKA6",
        "outputId": "d0db56b2-92b4-4cdb-d54a-e124b46497af"
      },
      "execution_count": 6,
      "outputs": [
        {
          "output_type": "stream",
          "name": "stdout",
          "text": [
            "Hello \n",
            " word!\n"
          ]
        }
      ]
    },
    {
      "cell_type": "code",
      "source": [
        "x=\"hello \\t world\"\n",
        "print(x)"
      ],
      "metadata": {
        "colab": {
          "base_uri": "https://localhost:8080/"
        },
        "id": "1a38rZNlzbMI",
        "outputId": "c03afc7c-80cb-48fe-d493-d5fc1ad80101"
      },
      "execution_count": 7,
      "outputs": [
        {
          "output_type": "stream",
          "name": "stdout",
          "text": [
            "hello \t world\n"
          ]
        }
      ]
    },
    {
      "cell_type": "code",
      "source": [
        "print(\"\\\"Abraham\\\"Jose\")"
      ],
      "metadata": {
        "colab": {
          "base_uri": "https://localhost:8080/"
        },
        "id": "4YmXrvnRzvpg",
        "outputId": "2fc1d2cb-3652-4bfe-d75b-98ceeb2103ae"
      },
      "execution_count": 8,
      "outputs": [
        {
          "output_type": "stream",
          "name": "stdout",
          "text": [
            "\"Abraham\"Jose\n"
          ]
        }
      ]
    },
    {
      "cell_type": "code",
      "source": [
        "print(\"He is a doctor\")"
      ],
      "metadata": {
        "colab": {
          "base_uri": "https://localhost:8080/"
        },
        "id": "fAYddO030P1Z",
        "outputId": "72b2bfc8-3625-45ba-f267-1784c92b016a"
      },
      "execution_count": 9,
      "outputs": [
        {
          "output_type": "stream",
          "name": "stdout",
          "text": [
            "He is a doctor\n"
          ]
        }
      ]
    },
    {
      "cell_type": "code",
      "source": [
        "print(\"Abraham\\n Jose\")"
      ],
      "metadata": {
        "colab": {
          "base_uri": "https://localhost:8080/"
        },
        "id": "QfHgrKLA0chO",
        "outputId": "2d27e4a2-b8c6-47a9-ada6-6fb69bd0cd9d"
      },
      "execution_count": 12,
      "outputs": [
        {
          "output_type": "stream",
          "name": "stdout",
          "text": [
            "Abraham\n",
            " Jose\n"
          ]
        }
      ]
    },
    {
      "cell_type": "code",
      "source": [
        "y=input(\"Enter Name\")\n",
        "z=int(input(\"Enter place\"))\n",
        "x=[\"John \" ,\"Mary\" ,\"David\" ,\"Adam\"]\n",
        "X.insert(z,y)\n",
        "print(x)"
      ],
      "metadata": {
        "colab": {
          "base_uri": "https://localhost:8080/"
        },
        "id": "LYgj_0ZI3myM",
        "outputId": "f6b84b13-b2c2-492d-ac8b-ab4ec80b08c7"
      },
      "execution_count": 20,
      "outputs": [
        {
          "output_type": "stream",
          "name": "stdout",
          "text": [
            "Enter Namenavneed\n",
            "Enter place1\n",
            "['John ', 'Mary', 'David', 'Adam']\n"
          ]
        }
      ]
    },
    {
      "cell_type": "code",
      "source": [
        "def Navneed():\n",
        "  y=input(\"Enter name:\")\n",
        "  z=int(input(\"Enter index value:\"))\n",
        "  x=[\"John \" ,\"Mary\" ,\"David\" ,\"Adam\"]\n",
        "  X.insert(z,y)\n",
        "  print(X)\n"
      ],
      "metadata": {
        "id": "78nbGxNJ75C9"
      },
      "execution_count": 24,
      "outputs": []
    },
    {
      "cell_type": "code",
      "source": [
        "Navneed()"
      ],
      "metadata": {
        "colab": {
          "base_uri": "https://localhost:8080/"
        },
        "id": "aDYo1aBa_gPd",
        "outputId": "b078a1fd-68b2-4c1d-bd2c-065245007788"
      },
      "execution_count": 25,
      "outputs": [
        {
          "output_type": "stream",
          "name": "stdout",
          "text": [
            "Enter name:sharon\n",
            "Enter index value:1\n",
            "['John ', 'sharon', 'navneed', 'navneed', 'Mary', 'David', 'Adam']\n"
          ]
        }
      ]
    },
    {
      "cell_type": "code",
      "source": [
        "def showjith():\n",
        "  x=int(input(\"Enter number:\"))\n",
        "  y=int(input(\"Enter second number\"))\n",
        "  print(\"Addition=\",x+y)\n",
        "  print(\"Subtraction=\",x-y)\n",
        "  print(\"Multipication=\",x*y)\n",
        "  print(\"Divison=\",x/y)\n",
        "\n"
      ],
      "metadata": {
        "id": "SlYOZMfc_rjk"
      },
      "execution_count": 28,
      "outputs": []
    },
    {
      "cell_type": "code",
      "source": [
        "showjith()"
      ],
      "metadata": {
        "colab": {
          "base_uri": "https://localhost:8080/"
        },
        "id": "rA_LVg3OBp09",
        "outputId": "2723a691-43d5-44dd-b01f-3d85d1d52547"
      },
      "execution_count": 31,
      "outputs": [
        {
          "output_type": "stream",
          "name": "stdout",
          "text": [
            "Enter number:77\n",
            "Enter second number11\n",
            "Addition= 88\n",
            "Subtraction= 66\n",
            "Multipication= 847\n",
            "Divison= 7.0\n"
          ]
        }
      ]
    },
    {
      "cell_type": "code",
      "source": [
        "def math(a,b):\n",
        "   print(a,b)"
      ],
      "metadata": {
        "id": "FylapdWaEIKG"
      },
      "execution_count": 34,
      "outputs": []
    },
    {
      "cell_type": "code",
      "source": [
        "x=int(input(\"Enter first value\"))\n",
        "y=int(input(\"Enter second value\"))\n",
        "math(x,y)"
      ],
      "metadata": {
        "colab": {
          "base_uri": "https://localhost:8080/"
        },
        "id": "GnArU87lEZHU",
        "outputId": "20919875-5cc1-4fd8-df08-9dac75045cb8"
      },
      "execution_count": 36,
      "outputs": [
        {
          "output_type": "stream",
          "name": "stdout",
          "text": [
            "Enter first value1\n",
            "Enter second value2\n",
            "1 2\n"
          ]
        }
      ]
    },
    {
      "cell_type": "code",
      "source": [
        "def add(a,b):\n",
        "  print(a+b)"
      ],
      "metadata": {
        "id": "uWqOOalxFNdq"
      },
      "execution_count": 49,
      "outputs": []
    },
    {
      "cell_type": "code",
      "source": [
        "def subtract(a,b):\n",
        "  print(a-b)"
      ],
      "metadata": {
        "id": "1YkGvp0yFZ8B"
      },
      "execution_count": 51,
      "outputs": []
    },
    {
      "cell_type": "code",
      "source": [
        "def divide(a,b):\n",
        "  print(a/b)"
      ],
      "metadata": {
        "id": "uDPbyfxjFrbX"
      },
      "execution_count": 52,
      "outputs": []
    },
    {
      "cell_type": "code",
      "source": [
        "def multiply(a,b):\n",
        "  print(a*b)"
      ],
      "metadata": {
        "id": "T1NsusGyFx_3"
      },
      "execution_count": 53,
      "outputs": []
    },
    {
      "cell_type": "code",
      "source": [
        "x=int(input(\"Enter first value\"))\n",
        "y=int(input(\"Enter second value\"))\n",
        "add(x,y)\n",
        "subtract(x,y)\n",
        "divide(x,y)\n",
        "multiply(x,y)"
      ],
      "metadata": {
        "colab": {
          "base_uri": "https://localhost:8080/"
        },
        "id": "U02T4X0dF7lg",
        "outputId": "3a6b4d0c-d79e-4a36-b8c7-9035a60932c0"
      },
      "execution_count": 54,
      "outputs": [
        {
          "output_type": "stream",
          "name": "stdout",
          "text": [
            "Enter first value4\n",
            "Enter second value5\n",
            "9\n",
            "-1\n",
            "0.8\n",
            "20\n"
          ]
        }
      ]
    },
    {
      "cell_type": "code",
      "source": [],
      "metadata": {
        "id": "4Pw_K7c5GTew"
      },
      "execution_count": null,
      "outputs": []
    }
  ]
}
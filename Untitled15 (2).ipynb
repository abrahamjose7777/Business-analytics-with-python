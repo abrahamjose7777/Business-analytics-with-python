{
  "nbformat": 4,
  "nbformat_minor": 0,
  "metadata": {
    "colab": {
      "provenance": []
    },
    "kernelspec": {
      "name": "python3",
      "display_name": "Python 3"
    },
    "language_info": {
      "name": "python"
    }
  },
  "cells": [
    {
      "cell_type": "code",
      "execution_count": 3,
      "metadata": {
        "id": "0PYNDy9GbpgL"
      },
      "outputs": [],
      "source": [
        "x=[5,6,7,8,9,8,5,2,7,9,4]"
      ]
    },
    {
      "cell_type": "code",
      "source": [
        "def sumfun():\n",
        "  print(sum(x))"
      ],
      "metadata": {
        "id": "K9eDHVZycLuf"
      },
      "execution_count": 2,
      "outputs": []
    },
    {
      "cell_type": "code",
      "source": [
        "sumfun()"
      ],
      "metadata": {
        "colab": {
          "base_uri": "https://localhost:8080/"
        },
        "id": "t00BRmqRcfM1",
        "outputId": "81faaffe-6b91-40e5-8749-0f6c0ccfec42"
      },
      "execution_count": 4,
      "outputs": [
        {
          "output_type": "stream",
          "name": "stdout",
          "text": [
            "70\n"
          ]
        }
      ]
    },
    {
      "cell_type": "code",
      "source": [
        "def oddsum():\n",
        "  odd=0\n",
        "  for i in x:\n",
        "    if x[i]%2 !=0:\n",
        "      odd+=x[i]\n",
        "  print(odd)\n",
        "  print(x)\n",
        "  "
      ],
      "metadata": {
        "id": "Q3DsRTKHciCb"
      },
      "execution_count": 13,
      "outputs": []
    },
    {
      "cell_type": "code",
      "source": [
        "oddsum()"
      ],
      "metadata": {
        "colab": {
          "base_uri": "https://localhost:8080/"
        },
        "id": "dq7k98H3h-uG",
        "outputId": "661c7ca7-08ce-4686-ab29-fc327b8300f2"
      },
      "execution_count": 14,
      "outputs": [
        {
          "output_type": "stream",
          "name": "stdout",
          "text": [
            "53\n",
            "[5, 6, 7, 8, 9, 8, 5, 2, 7, 9, 4]\n"
          ]
        }
      ]
    },
    {
      "cell_type": "code",
      "source": [
        "def evensum():\n",
        "  even=0\n",
        "  for i in x:\n",
        "    if x[i]%2==0:\n",
        "       even+=x[i]\n",
        "  print(even)\n",
        "  print(x)\n"
      ],
      "metadata": {
        "id": "6M-pGevRiNhd"
      },
      "execution_count": 23,
      "outputs": []
    },
    {
      "cell_type": "code",
      "source": [
        "evensum()"
      ],
      "metadata": {
        "colab": {
          "base_uri": "https://localhost:8080/"
        },
        "id": "pYqkJyPWj8zW",
        "outputId": "6a1bdd4c-7cf4-4d76-ad6d-1f68cf3eb794"
      },
      "execution_count": 24,
      "outputs": [
        {
          "output_type": "stream",
          "name": "stdout",
          "text": [
            "20\n",
            "[5, 6, 7, 8, 9, 8, 5, 2, 7, 9, 4]\n"
          ]
        }
      ]
    },
    {
      "cell_type": "code",
      "source": [
        "#Remove vowels\n",
        "v=(\"Python is a high-level, general-purpose programming language. Its design philosophy emphasizes code readability with the use of significant indentation. Python is dynamically typed and garbage-collect…\")"
      ],
      "metadata": {
        "id": "3DDUyo9_kFn2"
      },
      "execution_count": 25,
      "outputs": []
    },
    {
      "cell_type": "code",
      "source": [
        "def vowelremove():\n",
        "  voweldelete=[]\n",
        "  for i in v:\n",
        "    if v(i) !=\"u\":\n",
        "     voweldelete.append(v[i])\n",
        "     print(voweldelete)"
      ],
      "metadata": {
        "id": "ehlhi7FXlCy5"
      },
      "execution_count": 27,
      "outputs": []
    },
    {
      "cell_type": "code",
      "source": [
        " string = input(\"a large heavy-bodied non-venomous snake occurring throughout the Old World tropics, killing prey by constriction and asphyxiation.\")\n",
        "if string == 'x':\n",
        "    exit();\n",
        "else:\n",
        "    newstr = string;\n",
        "    print(\"\\nRemoving vowels from the given string\");\n",
        "    vowels = ('a', 'e', 'i', 'o', 'u');\n",
        "    for x in string.lower():\n",
        "        if x in vowels:\n",
        "            newstr = newstr.replace(x,\"\");\n",
        "    print(\"New string after successfully removed all the vowels:\");\n",
        "    print(newstr);\n"
      ],
      "metadata": {
        "colab": {
          "base_uri": "https://localhost:8080/"
        },
        "id": "itlMzCVZnJi2",
        "outputId": "fe125272-7714-43d1-de4d-de1a267c0965"
      },
      "execution_count": 29,
      "outputs": [
        {
          "output_type": "stream",
          "name": "stdout",
          "text": [
            "a large heavy-bodied non-venomous snake occurring throughout the Old World tropics, killing prey by constriction and asphyxiation.a,e,i,o,u\n",
            "\n",
            "Removing vowels from the given string\n",
            "New string after successfully removed all the vowels:\n",
            ",,,,\n"
          ]
        }
      ]
    },
    {
      "cell_type": "code",
      "source": [],
      "metadata": {
        "id": "dufnbjhVpzJA"
      },
      "execution_count": null,
      "outputs": []
    }
  ]
}
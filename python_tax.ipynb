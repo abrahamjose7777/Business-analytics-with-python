{
  "nbformat": 4,
  "nbformat_minor": 0,
  "metadata": {
    "colab": {
      "name": "python tax.ipynb",
      "provenance": []
    },
    "kernelspec": {
      "name": "python3",
      "display_name": "Python 3"
    },
    "language_info": {
      "name": "python"
    }
  },
  "cells": [
    {
      "cell_type": "code",
      "execution_count": 1,
      "metadata": {
        "colab": {
          "base_uri": "https://localhost:8080/"
        },
        "id": "j4SUodyedSk5",
        "outputId": "633fca08-e977-45df-8b0f-1862f79d38f9"
      },
      "outputs": [
        {
          "output_type": "stream",
          "name": "stdout",
          "text": [
            "enter 1st number:2\n",
            "enter 2nd number:7\n",
            "9\n",
            "-5\n",
            "0.2857142857142857\n",
            "14\n"
          ]
        }
      ],
      "source": [
        "x=int(input(\"enter 1st number:\"))\n",
        "y=int(input(\"enter 2nd number:\"))\n",
        "print(x+y)\n",
        "print(x-y)\n",
        "print(x/y)\n",
        "print(x*y)"
      ]
    },
    {
      "cell_type": "code",
      "source": [
        "p=int(input(\"enter principal amount :\"))\n",
        "n=int(input(\"enter no. of yrs :\"))\n",
        "r=int(input(\"enter rate :\"))\n",
        "r=r/100\n",
        "i=p*n*r\n",
        "print(\"interest :\",i)"
      ],
      "metadata": {
        "colab": {
          "base_uri": "https://localhost:8080/"
        },
        "id": "pCYQJiC8ekGz",
        "outputId": "809149fc-419f-49e1-ef9d-f52cfd9416a0"
      },
      "execution_count": 2,
      "outputs": [
        {
          "output_type": "stream",
          "name": "stdout",
          "text": [
            "enter principal amount :1000\n",
            "enter no. of yrs :4\n",
            "enter rate :10\n",
            "interest : 400.0\n"
          ]
        }
      ]
    },
    {
      "cell_type": "code",
      "source": [
        "x=int(input(\"enter your marks :\"))\n",
        "if x>50:\n",
        "  print('you are passed')\n",
        "if x<50:\n",
        "  print('you are failed')"
      ],
      "metadata": {
        "colab": {
          "base_uri": "https://localhost:8080/"
        },
        "id": "oMZ_XpGKeyek",
        "outputId": "ded45b32-ff21-430c-99f2-83493dc42740"
      },
      "execution_count": 4,
      "outputs": [
        {
          "output_type": "stream",
          "name": "stdout",
          "text": [
            "enter your marks :60\n",
            "you are passed\n"
          ]
        }
      ]
    },
    {
      "cell_type": "code",
      "source": [
        "s=int(input(\"enter salary: \"))\n",
        "if s>250000:\n",
        "  print(\"you r taxable\")\n",
        "  print(\"tax amount payable :\",(s-250000)*(10/100))\n",
        "else:\n",
        "  print(\"not taxable\")"
      ],
      "metadata": {
        "colab": {
          "base_uri": "https://localhost:8080/"
        },
        "id": "oHrt0kRMfL00",
        "outputId": "82e396df-7579-4b03-9549-b54d778b2763"
      },
      "execution_count": 6,
      "outputs": [
        {
          "output_type": "stream",
          "name": "stdout",
          "text": [
            "enter salary: 300000\n",
            "you r taxable\n",
            "tax amount payable : 5000.0\n"
          ]
        }
      ]
    },
    {
      "cell_type": "code",
      "source": [
        "s=int(input(\"enter salary: \"))\n",
        "if s>250000 and s<500000:\n",
        "  print(\"you r taxable\")\n",
        "  print(\"tax amount payable :\",(s-250000)*(10/100))\n",
        "elif s>500000:\n",
        " print(\"you r taxable\")\n",
        " print(\"tax amount payable :\",(s-250000)*(20/100))  \n",
        "else:\n",
        "  print(\"not taxable\")"
      ],
      "metadata": {
        "colab": {
          "base_uri": "https://localhost:8080/"
        },
        "id": "fz3tNPZBfmJL",
        "outputId": "199cc0a3-4206-42c9-c49d-9f661d541b15"
      },
      "execution_count": 8,
      "outputs": [
        {
          "output_type": "stream",
          "name": "stdout",
          "text": [
            "enter salary: 600000\n",
            "you r taxable\n",
            "tax amount payable : 70000.0\n"
          ]
        }
      ]
    },
    {
      "cell_type": "code",
      "source": [
        ""
      ],
      "metadata": {
        "id": "wBUEbx41h2DU"
      },
      "execution_count": null,
      "outputs": []
    }
  ]
}